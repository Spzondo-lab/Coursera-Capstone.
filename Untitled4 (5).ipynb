{
 "cells": [
  {
   "cell_type": "markdown",
   "metadata": {},
   "source": [
    "# Capstone Project-The Battle of Neighborhoods"
   ]
  },
  {
   "cell_type": "markdown",
   "metadata": {},
   "source": [
    "### FINDING THE RIGHT LOCATION FOR OPENING A RESTAURANT"
   ]
  },
  {
   "cell_type": "markdown",
   "metadata": {},
   "source": [
    "Table of Contents\n",
    "\n",
    "1.INTRODUCTION\n",
    "\n",
    "2.DATA\n",
    "\n",
    "3.METHODOLOGY\n",
    "\n",
    "4.DISCUSSION AND RESULTS\n",
    "\n",
    "5.CONCLUTION\n",
    "\n",
    "6.REFERENCES"
   ]
  },
  {
   "cell_type": "markdown",
   "metadata": {},
   "source": [
    "1. ### INTRODUCTION"
   ]
  },
  {
   "cell_type": "markdown",
   "metadata": {},
   "source": [
    "**Backround**\n"
   ]
  },
  {
   "cell_type": "markdown",
   "metadata": {},
   "source": [
    "Toronto is the most populous city in Canada.It is an international centre of business, finance, arts, and culture, and is recognized as one of the most multicultural and cosmopolitan cities in the world.Toronto is a prominent centre for music,theatre,motion picture production,and television production,and is home to the headquarters of Canada's major national broadcast networks and media outlets.Its varied cultural institutions,which include numerous museums and galleries, festivals and public events, entertainment districts, national historic sites, and sports activities,  attract over 43 million tourists each year.Toronto is known for its many skyscrapers and high-rise buildings.It brings a lot of business opportunities and advantages."
   ]
  },
  {
   "cell_type": "markdown",
   "metadata": {},
   "source": [
    "**Problem**"
   ]
  },
  {
   "cell_type": "markdown",
   "metadata": {},
   "source": [
    "A businessman hoping to find an opportunty to run a restaurant needs to find a place with right requirements for a successful business.Data that might contribute to determining the best place to start a restuarent includes different places in Toronto.This project aims at finding the very place that will make a business more successful.Data needs to be collected in order to find the right location for the restaurant."
   ]
  },
  {
   "cell_type": "markdown",
   "metadata": {},
   "source": [
    " ### DATA"
   ]
  },
  {
   "cell_type": "markdown",
   "metadata": {},
   "source": [
    "Wikipedia- https://en.wikipedia.org/wiki/Toronto_City#History"
   ]
  },
  {
   "cell_type": "markdown",
   "metadata": {},
   "source": [
    "Data from Toronto dataset and Foursquare API \n"
   ]
  },
  {
   "cell_type": "markdown",
   "metadata": {},
   "source": [
    "In this project three datasets will be used-The Foursquare API ,Lists of Toronto neighborhoods and Lists of podtal codes of canada(https://en.wikipedia.org/wiki/List_of_postal_codes_of_Canada: M)"
   ]
  },
  {
   "cell_type": "markdown",
   "metadata": {},
   "source": [
    "### METHODOLOGY"
   ]
  },
  {
   "cell_type": "markdown",
   "metadata": {},
   "source": [
    "To compare similaritites of two cities, we explore neighborhoods and segment them"
   ]
  },
  {
   "cell_type": "markdown",
   "metadata": {},
   "source": [
    "The first step is to combine Toronto datasets,Postal codes,boroughs,neighborhoods,latitudes and longitudes of the postal codes.We will explore the demograpics of the neighborhoods of Toronto by segmenting the data and conducting discriptive analysis using pandas."
   ]
  },
  {
   "cell_type": "markdown",
   "metadata": {},
   "source": [
    "### DISCUSSION AND RESULTS"
   ]
  },
  {
   "cell_type": "markdown",
   "metadata": {},
   "source": [
    "The main target is to find a location with the right requirements  for a successful business using the Foursquare API and Toronto dataset.In this project we started off with business problem of identifyinga good neighborhood to open a new restaurant.Ti achieve this we looked into all neighborhoods in Toronto."
   ]
  },
  {
   "cell_type": "markdown",
   "metadata": {},
   "source": []
  },
  {
   "cell_type": "markdown",
   "metadata": {},
   "source": [
    "### CONCLUSION"
   ]
  },
  {
   "cell_type": "markdown",
   "metadata": {},
   "source": [
    "To conclude this problem we got a chance on a business problem, used many python libraries to fetch data.We made use of Foursquare API to explore venues in neighborhoods in Toronto.Then data from Wikipedia which we scraped and visualized using various plot present in seaborn and matplotlib."
   ]
  },
  {
   "cell_type": "markdown",
   "metadata": {},
   "source": [
    "### REFERENCES"
   ]
  },
  {
   "cell_type": "markdown",
   "metadata": {},
   "source": [
    "Wikipedia"
   ]
  },
  {
   "cell_type": "markdown",
   "metadata": {},
   "source": [
    "Foursquare API"
   ]
  },
  {
   "cell_type": "markdown",
   "metadata": {},
   "source": [
    "CSV for coordinate data (https://cocl.us/Geospatial_data)"
   ]
  },
  {
   "cell_type": "code",
   "execution_count": null,
   "metadata": {},
   "outputs": [],
   "source": []
  }
 ],
 "metadata": {
  "kernelspec": {
   "display_name": "Python",
   "language": "python",
   "name": "conda-env-python-py"
  },
  "language_info": {
   "codemirror_mode": {
    "name": "ipython",
    "version": 3
   },
   "file_extension": ".py",
   "mimetype": "text/x-python",
   "name": "python",
   "nbconvert_exporter": "python",
   "pygments_lexer": "ipython3",
   "version": "3.6.7"
  },
  "widgets": {
   "state": {},
   "version": "1.1.2"
  }
 },
 "nbformat": 4,
 "nbformat_minor": 4
}
