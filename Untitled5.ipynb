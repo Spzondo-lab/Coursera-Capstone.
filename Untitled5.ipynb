{
 "cells": [
  {
   "cell_type": "markdown",
   "metadata": {},
   "source": [
    "# Capstone Project-The Battle of Neighborhoods week 1"
   ]
  },
  {
   "cell_type": "code",
   "execution_count": null,
   "metadata": {},
   "outputs": [],
   "source": []
  },
  {
   "cell_type": "markdown",
   "metadata": {},
   "source": [
    "#### A discription of the problem and a discussion of the problem"
   ]
  },
  {
   "cell_type": "markdown",
   "metadata": {},
   "source": [
    "A businessman would like to open a restaurent in New York.He wants to know the best place for him to build his restaurent.He also wants the location to have the right requirements for a succesful business."
   ]
  },
  {
   "cell_type": "markdown",
   "metadata": {},
   "source": [
    "#### A discription of the data and how it will be used to solve the problem"
   ]
  },
  {
   "cell_type": "markdown",
   "metadata": {},
   "source": [
    "New York Neighborhood has a total nomber of 5 boroughs and 306 neighborhoods\n",
    "link to dataset: http://geo.nyu.edu/catalogue/nyu_2451_34572\n",
    "from wikipedia we get the data for:\n",
    "1.New York Population- https://en.wikipedia.org/wiki/New_York_City\n",
    "2.New York City Demographics- https://en.wikipedia.org/wiki/Economy_of_New_York_City\n",
    "https://en.wikipedia.org/wiki/List_of_Michelin_starred_restaurants_in_New_York_city "
   ]
  },
  {
   "cell_type": "code",
   "execution_count": null,
   "metadata": {},
   "outputs": [],
   "source": []
  }
 ],
 "metadata": {
  "kernelspec": {
   "display_name": "Python",
   "language": "python",
   "name": "conda-env-python-py"
  },
  "language_info": {
   "codemirror_mode": {
    "name": "ipython",
    "version": 3
   },
   "file_extension": ".py",
   "mimetype": "text/x-python",
   "name": "python",
   "nbconvert_exporter": "python",
   "pygments_lexer": "ipython3",
   "version": "3.6.7"
  }
 },
 "nbformat": 4,
 "nbformat_minor": 4
}
